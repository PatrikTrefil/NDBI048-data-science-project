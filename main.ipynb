{
 "cells": [
  {
   "cell_type": "markdown",
   "metadata": {},
   "source": [
    "# Statistická úloha\n",
    "\n",
    "Budeme zkoumat souvislosti mezi štěstí populace země a gramotnosti v populace země na těchto datech:\n",
    "\n",
    "- [World Happiness Report](https://www.kaggle.com/datasets/unsdsn/world-happiness?resource=download)\n",
    "- [Countries of the World](https://www.kaggle.com/datasets/fernandol/countries-of-the-world)\n",
    "\n",
    "Naše nulová hypotéza je, že pomocí gramotnosti populace nelze ani částečně odhadnout štěstí populace.\n",
    "\n",
    "## Import dat a normalizace"
   ]
  },
  {
   "cell_type": "code",
   "execution_count": 55,
   "metadata": {},
   "outputs": [],
   "source": [
    "import numpy as np\n",
    "import pandas as pd\n",
    "import pycountry\n",
    "\n",
    "def standardize_country_name(country_name):\n",
    "    \"\"\"Try fuzzy matching against a DB of country names. Otherwise at least trim whitespace.\"\"\"\n",
    "    try: \n",
    "        return pycountry.countries.search_fuzzy(country_name)[0].name\n",
    "    except LookupError:\n",
    "        return country_name.strip()\n",
    "    \n",
    "\n",
    "literacy = pd.read_csv(\n",
    "    './data/countries_of_the_world/countries_of_the_world.csv',\n",
    "    dtype={\"Literacy (%)\": np.float16},\n",
    "    decimal=','\n",
    ")\n",
    "literacy[\"Country\"] = literacy[\"Country\"].apply(standardize_country_name)\n",
    "\n",
    "happiness = pd.read_csv('./data/world_happiness/2019.csv', dtype={\"Score\": np.float16})\n",
    "happiness[\"Country or region\"] = happiness[\"Country or region\"].apply(standardize_country_name)"
   ]
  },
  {
   "cell_type": "markdown",
   "metadata": {},
   "source": [
    "## Sloučení tabulek"
   ]
  },
  {
   "cell_type": "code",
   "execution_count": 56,
   "metadata": {},
   "outputs": [
    {
     "name": "stdout",
     "output_type": "stream",
     "text": [
      "Countries considered:  146\n"
     ]
    }
   ],
   "source": [
    "merged = pd.merge(literacy, happiness, how=\"inner\", left_on=\"Country\", right_on=\"Country or region\")\n",
    "# if happiness score or literacy is unknown, ignore country\n",
    "filtered = merged[~np.isnan(merged[\"Literacy (%)\"]) & ~np.isnan(merged[\"Score\"])]\n",
    "print(\"Countries considered: \", len(filtered))"
   ]
  },
  {
   "cell_type": "markdown",
   "metadata": {},
   "source": [
    "Nyní si data vizualizujme."
   ]
  },
  {
   "cell_type": "code",
   "execution_count": 57,
   "metadata": {},
   "outputs": [
    {
     "data": {
      "text/plain": [
       "<AxesSubplot:xlabel='Literacy (%)', ylabel='Happiness score'>"
      ]
     },
     "execution_count": 57,
     "metadata": {},
     "output_type": "execute_result"
    },
    {
     "data": {
      "image/png": "[encoded data removed]",
      "text/plain": [
       "<Figure size 432x288 with 1 Axes>"
      ]
     },
     "metadata": {
      "needs_background": "light"
     },
     "output_type": "display_data"
    }
   ],
   "source": [
    "filtered.plot.scatter(x=\"Literacy (%)\", y=\"Score\", ylabel=\"Happiness score\")"
   ]
  },
  {
   "cell_type": "markdown",
   "metadata": {},
   "source": [
    "Proveďme lineární regresi."
   ]
  },
  {
   "cell_type": "code",
   "execution_count": 58,
   "metadata": {},
   "outputs": [
    {
     "name": "stdout",
     "output_type": "stream",
     "text": [
      "slope: 0.0312132872760611\n",
      "intercept: 2.9365766588200355\n",
      "r^2-value 0.3526313926951669\n",
      "p-value: 2.79229136717134e-15\n",
      "std-err: 0.003524305884001723\n",
      "\n",
      "p < 0.05: True\n"
     ]
    }
   ],
   "source": [
    "from scipy import stats\n",
    "\n",
    "x=filtered[\"Literacy (%)\"]\n",
    "y=filtered[\"Score\"]\n",
    "\n",
    "slope, intercept, r_value, p_value, std_err = stats.linregress(x, y)\n",
    "\n",
    "print(\"slope:\", slope)\n",
    "print(\"intercept:\", intercept)\n",
    "print(\"r^2-value\", r_value ** 2)\n",
    "print(\"p-value:\", p_value)\n",
    "print(\"std-err:\", std_err)\n",
    "\n",
    "print()\n",
    "\n",
    "trust = 0.05\n",
    "print(f\"p < {trust}:\", p_value < trust)"
   ]
  },
  {
   "cell_type": "markdown",
   "metadata": {},
   "source": [
    "Ještě před interpretací si vizualizujme výsledky lineární regrese."
   ]
  },
  {
   "cell_type": "code",
   "execution_count": 59,
   "metadata": {},
   "outputs": [
    {
     "data": {
      "image/png": "[encoded data removed]",
      "text/plain": [
       "<Figure size 432x288 with 1 Axes>"
      ]
     },
     "metadata": {
      "needs_background": "light"
     },
     "output_type": "display_data"
    }
   ],
   "source": [
    "import matplotlib.pyplot as plt\n",
    "\n",
    "plt.plot(x, y, 'o', label='original data')\n",
    "plt.plot(x, intercept + slope*x, 'r', label='fitted line')\n",
    "plt.xlabel(\"Literacy (%)\")\n",
    "plt.ylabel(\"Happiness score\")\n",
    "plt.legend()\n",
    "plt.show()"
   ]
  },
  {
   "cell_type": "markdown",
   "metadata": {},
   "source": [
    "## Interpretace výsledků\n",
    "\n",
    "Všimněme si, že při volbě hladiny významnosti 5% lze považovat výsledky za věrohodné.\n",
    "\n",
    "$R^2 \\doteq 0.37$, tudíž pomocí gramotnosti populace jsme schopni alespoň částečně odhadnout štěstí populace.\n"
   ]
  },
  {
   "cell_type": "code",
   "execution_count": null,
   "metadata": {},
   "outputs": [],
   "source": []
  }
 ],
 "metadata": {
  "interpreter": {
   "hash": "ea3b2d397d8af67df7243b9a97e1984df7926f4460e629a6b36b86ccb02ead96"
  },
  "kernelspec": {
   "display_name": "Python 3 (ipykernel)",
   "language": "python",
   "name": "python3"
  },
  "language_info": {
   "codemirror_mode": {
    "name": "ipython",
    "version": 3
   },
   "file_extension": ".py",
   "mimetype": "text/x-python",
   "name": "python",
   "nbconvert_exporter": "python",
   "pygments_lexer": "ipython3",
   "version": "3.10.3"
  }
 },
 "nbformat": 4,
 "nbformat_minor": 2
}
