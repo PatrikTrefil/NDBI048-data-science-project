{
 "cells": [
  {
   "cell_type": "markdown",
   "metadata": {},
   "source": [
    "# Statistická úloha\n",
    "\n",
    "Budeme zkoumat souvislosti mezi štěstí populace země a gramotnosti v populace země na těchto datech:\n",
    "\n",
    "- [World Happiness Report](https://www.kaggle.com/datasets/unsdsn/world-happiness?resource=download)\n",
    "- [Countries of the World](https://www.kaggle.com/datasets/fernandol/countries-of-the-world)\n",
    "\n",
    "Naše nulová hypotéza je, že pomocí gramotnosti populace nelze ani částečně odhadnout štěstí populace.\n",
    "\n",
    "## Import dat a normalizace\n"
   ]
  },
  {
   "cell_type": "code",
   "execution_count": 13,
   "metadata": {},
   "outputs": [],
   "source": [
    "import numpy as np\n",
    "import pandas as pd\n",
    "import pycountry\n",
    "\n",
    "def standardize_country_name(country_name):\n",
    "    \"\"\"\n",
    "    Try fuzzy matching against a DB of country names.\n",
    "    Otherwise at least trim whitespace.\n",
    "    \"\"\"\n",
    "    try: \n",
    "        return pycountry.countries.search_fuzzy(country_name)[0].name\n",
    "    except LookupError:\n",
    "        return country_name.strip()\n",
    "    \n",
    "\n",
    "literacy = pd.read_csv(\n",
    "    './data/countries_of_the_world/countries_of_the_world.csv',\n",
    "    dtype={\"Literacy (%)\": np.float16}, \n",
    "    decimal=','\n",
    ")\n",
    "literacy[\"Country\"] = \\\n",
    "    literacy[\"Country\"].apply(standardize_country_name)\n",
    "\n",
    "happiness = pd.read_csv(\n",
    "    './data/world_happiness/2019.csv',\n",
    "    dtype={\n",
    "        \"Score\": np.float16\n",
    "        }\n",
    "    )\n",
    "happiness[\"Country or region\"] = \\\n",
    "    happiness[\"Country or region\"].apply(standardize_country_name)"
   ]
  },
  {
   "cell_type": "markdown",
   "metadata": {},
   "source": [
    "## Sloučení tabulek\n"
   ]
  },
  {
   "cell_type": "code",
   "execution_count": 14,
   "metadata": {},
   "outputs": [
    {
     "name": "stdout",
     "output_type": "stream",
     "text": [
      "Countries considered:  146\n"
     ]
    }
   ],
   "source": [
    "merged = pd.merge(\n",
    "    literacy, \n",
    "    happiness, \n",
    "    how=\"inner\", \n",
    "    left_on=\"Country\", \n",
    "    right_on=\"Country or region\"\n",
    "    )\n",
    "# if happiness score or literacy is unknown, ignore country\n",
    "filtered = \\\n",
    "    merged[~np.isnan(merged[\"Literacy (%)\"]) & ~np.isnan(merged[\"Score\"])]\n",
    "print(\"Countries considered: \", len(filtered))"
   ]
  },
  {
   "cell_type": "markdown",
   "metadata": {},
   "source": [
    "Nyní si data vizualizujme.\n"
   ]
  },
  {
   "cell_type": "code",
   "execution_count": 15,
   "metadata": {},
   "outputs": [
    {
     "data": {
      "image/png": "[encoded data removed]",
      "text/plain": [
       "<Figure size 432x288 with 1 Axes>"
      ]
     },
     "metadata": {
      "needs_background": "light"
     },
     "output_type": "display_data"
    }
   ],
   "source": [
    "import matplotlib.pyplot as plt\n",
    "\n",
    "plt.scatter(filtered[\"Literacy (%)\"], filtered[\"Score\"])\n",
    "plt.xlabel(\"Literacy (%)\")\n",
    "plt.ylabel(\"Happiness score\")\n",
    "plt.show()"
   ]
  },
  {
   "cell_type": "markdown",
   "metadata": {},
   "source": [
    "Proveďme lineární regresi.\n"
   ]
  },
  {
   "cell_type": "code",
   "execution_count": 16,
   "metadata": {},
   "outputs": [
    {
     "name": "stdout",
     "output_type": "stream",
     "text": [
      "slope: 0.0312132872760611\n",
      "intercept: 2.9365766588200355\n",
      "r^2-value 0.3526313926951669\n",
      "p-value: 2.79229136717134e-15\n",
      "std-err: 0.003524305884001723\n",
      "\n",
      "p < 0.05: True\n"
     ]
    }
   ],
   "source": [
    "from scipy import stats\n",
    "\n",
    "x=filtered[\"Literacy (%)\"]\n",
    "y=filtered[\"Score\"]\n",
    "\n",
    "slope, intercept, r_value, p_value, std_err = stats.linregress(x, y)\n",
    "\n",
    "print(\"slope:\", slope)\n",
    "print(\"intercept:\", intercept)\n",
    "print(\"r^2-value\", r_value ** 2)\n",
    "print(\"p-value:\", p_value)\n",
    "print(\"std-err:\", std_err)\n",
    "\n",
    "print()\n",
    "\n",
    "trust = 0.05\n",
    "print(f\"p < {trust}:\", p_value < trust)"
   ]
  },
  {
   "cell_type": "markdown",
   "metadata": {},
   "source": [
    "Ještě před interpretací si vizualizujme výsledky lineární regrese.\n"
   ]
  },
  {
   "cell_type": "code",
   "execution_count": 17,
   "metadata": {},
   "outputs": [
    {
     "data": {
      "image/png": "[encoded data removed]",
      "text/plain": [
       "<Figure size 432x288 with 1 Axes>"
      ]
     },
     "metadata": {
      "needs_background": "light"
     },
     "output_type": "display_data"
    }
   ],
   "source": [
    "plt.plot(x, y, 'o', label='original data')\n",
    "plt.plot(x, intercept + slope*x, 'r', label='fitted line')\n",
    "plt.xlabel(\"Literacy (%)\")\n",
    "plt.ylabel(\"Happiness score\")\n",
    "plt.legend()\n",
    "plt.show()"
   ]
  },
  {
   "cell_type": "markdown",
   "metadata": {},
   "source": [
    "## Interpretace výsledků\n",
    "\n",
    "Všimněme si, že při volbě hladiny významnosti 5% lze považovat výsledky za věrohodné.\n",
    "\n",
    "$R^2 \\doteq 0.37$, tudíž pomocí gramotnosti populace jsme schopni alespoň částečně odhadnout štěstí populace.\n"
   ]
  }
 ],
 "metadata": {
  "interpreter": {
   "hash": "ea3b2d397d8af67df7243b9a97e1984df7926f4460e629a6b36b86ccb02ead96"
  },
  "kernelspec": {
   "display_name": "Python 3 (ipykernel)",
   "language": "python",
   "name": "python3"
  },
  "language_info": {
   "codemirror_mode": {
    "name": "ipython",
    "version": 3
   },
   "file_extension": ".py",
   "mimetype": "text/x-python",
   "name": "python",
   "nbconvert_exporter": "python",
   "pygments_lexer": "ipython3",
   "version": "3.10.3"
  }
 },
 "nbformat": 4,
 "nbformat_minor": 2
}
